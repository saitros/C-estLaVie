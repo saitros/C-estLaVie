{
  "nbformat": 4,
  "nbformat_minor": 0,
  "metadata": {
    "colab": {
      "name": "intent_classification_Colab.ipynb",
      "version": "0.3.2",
      "provenance": [],
      "collapsed_sections": [],
      "include_colab_link": true
    },
    "kernelspec": {
      "display_name": "Python 3",
      "language": "python",
      "name": "python3"
    }
  },
  "cells": [
    {
      "cell_type": "markdown",
      "metadata": {
        "id": "view-in-github",
        "colab_type": "text"
      },
      "source": [
        "<a href=\"https://colab.research.google.com/github/saitros/C-estLaVie/blob/master/intent_classification_Colab.ipynb\" target=\"_parent\"><img src=\"https://colab.research.google.com/assets/colab-badge.svg\" alt=\"Open In Colab\"/></a>"
      ]
    },
    {
      "metadata": {
        "id": "0G2_bsvd7VAz",
        "colab_type": "code",
        "colab": {}
      },
      "cell_type": "code",
      "source": [
        "!pip install mxnet\n",
        "!pip install gluonnlp\n",
        "!pip install konlpy\n",
        "!bash <(curl -s https://raw.githubusercontent.com/konlpy/konlpy/master/scripts/mecab.sh)\n",
        "!apt-get install mecab mecab-ipadic-utf8 libmecab-dev swig"
      ],
      "execution_count": 0,
      "outputs": []
    },
    {
      "metadata": {
        "id": "C8XczWNFBcuW",
        "colab_type": "code",
        "colab": {}
      },
      "cell_type": "code",
      "source": [
        "import mxnet as mx\n",
        "from mxnet import gluon, autograd\n",
        "from mxnet.gluon import nn, rnn\n",
        "import numpy as np\n",
        "import warnings\n",
        "warnings.simplefilter('ignore')\n",
        "\n",
        "import time\n",
        "import itertools\n",
        "from tqdm import tqdm\n",
        "import multiprocessing as mp\n",
        "from mxnet import nd\n",
        "import gluonnlp as nlp\n",
        "import re\n",
        "from konlpy.tag import Mecab\n",
        "import re\n",
        "import pandas as pd\n",
        "mecab = Mecab()"
      ],
      "execution_count": 0,
      "outputs": []
    },
    {
      "metadata": {
        "id": "YoyFFUrMyeR_",
        "colab_type": "code",
        "colab": {}
      },
      "cell_type": "code",
      "source": [
        "mecab.nouns('공부를 합시다. 커피를 먹습니다')"
      ],
      "execution_count": 0,
      "outputs": []
    },
    {
      "metadata": {
        "id": "dUQpbwYJBcua",
        "colab_type": "code",
        "colab": {}
      },
      "cell_type": "code",
      "source": [
        "from google.colab import drive\n",
        "drive.mount('/gdrive')"
      ],
      "execution_count": 0,
      "outputs": []
    },
    {
      "metadata": {
        "id": "fV89Gw7YVR_E",
        "colab_type": "code",
        "colab": {}
      },
      "cell_type": "code",
      "source": [
        "!ls /gdrive/My\\ Drive/Colab\\ Notebooks/"
      ],
      "execution_count": 0,
      "outputs": []
    },
    {
      "metadata": {
        "id": "Dn9hoOClVT8A",
        "colab_type": "code",
        "colab": {}
      },
      "cell_type": "code",
      "source": [
        "train_raw = pd.read_csv('/gdrive/My Drive/Colab Notebooks/intent_v3.txt',names=['sentence', 'intent'], sep='\\t')"
      ],
      "execution_count": 0,
      "outputs": []
    },
    {
      "metadata": {
        "id": "hVFxIyphBcuc",
        "colab_type": "code",
        "outputId": "7e27865e-26ea-4e60-babb-b53728a9aa82",
        "colab": {
          "base_uri": "https://localhost:8080/",
          "height": 1882
        }
      },
      "cell_type": "code",
      "source": [
        "train_raw.head(0-30)"
      ],
      "execution_count": 0,
      "outputs": [
        {
          "output_type": "execute_result",
          "data": {
            "text/html": [
              "<div>\n",
              "<style scoped>\n",
              "    .dataframe tbody tr th:only-of-type {\n",
              "        vertical-align: middle;\n",
              "    }\n",
              "\n",
              "    .dataframe tbody tr th {\n",
              "        vertical-align: top;\n",
              "    }\n",
              "\n",
              "    .dataframe thead th {\n",
              "        text-align: right;\n",
              "    }\n",
              "</style>\n",
              "<table border=\"1\" class=\"dataframe\">\n",
              "  <thead>\n",
              "    <tr style=\"text-align: right;\">\n",
              "      <th></th>\n",
              "      <th>sentence</th>\n",
              "      <th>intent</th>\n",
              "    </tr>\n",
              "  </thead>\n",
              "  <tbody>\n",
              "    <tr>\n",
              "      <th>0</th>\n",
              "      <td>QUESTION</td>\n",
              "      <td>INTENT</td>\n",
              "    </tr>\n",
              "    <tr>\n",
              "      <th>1</th>\n",
              "      <td>윈터솔져 나오는 2018년 개봉한 영화 제목이 뭐지?</td>\n",
              "      <td>findMovie</td>\n",
              "    </tr>\n",
              "    <tr>\n",
              "      <th>2</th>\n",
              "      <td>타노스 나오는 영화 알려줘</td>\n",
              "      <td>findMovie</td>\n",
              "    </tr>\n",
              "    <tr>\n",
              "      <th>3</th>\n",
              "      <td>어벤져스 3편 이름 알려줘</td>\n",
              "      <td>findMovie</td>\n",
              "    </tr>\n",
              "    <tr>\n",
              "      <th>4</th>\n",
              "      <td>어벤져스 최신작 알려줘</td>\n",
              "      <td>findMovie</td>\n",
              "    </tr>\n",
              "    <tr>\n",
              "      <th>5</th>\n",
              "      <td>어벤져스 최근작품이 뭐지?</td>\n",
              "      <td>findMovie</td>\n",
              "    </tr>\n",
              "    <tr>\n",
              "      <th>6</th>\n",
              "      <td>루소형제 감독의 최근작품이 뭐지?</td>\n",
              "      <td>findMovie</td>\n",
              "    </tr>\n",
              "    <tr>\n",
              "      <th>7</th>\n",
              "      <td>MCU영화 알려줘</td>\n",
              "      <td>findMovie</td>\n",
              "    </tr>\n",
              "    <tr>\n",
              "      <th>8</th>\n",
              "      <td>많은 히어로들이 나오는 영화 알려줘</td>\n",
              "      <td>findMovie</td>\n",
              "    </tr>\n",
              "    <tr>\n",
              "      <th>9</th>\n",
              "      <td>초호화캐스팅의 헐리웃 영화 알려줘</td>\n",
              "      <td>findMovie</td>\n",
              "    </tr>\n",
              "    <tr>\n",
              "      <th>10</th>\n",
              "      <td>어벤져스2 속편 알려줘</td>\n",
              "      <td>findMovie</td>\n",
              "    </tr>\n",
              "    <tr>\n",
              "      <th>11</th>\n",
              "      <td>어벤져스 속편 알려줘</td>\n",
              "      <td>findMovie</td>\n",
              "    </tr>\n",
              "    <tr>\n",
              "      <th>12</th>\n",
              "      <td>토르라그나로크 다음에 볼만한 영화 알려줘</td>\n",
              "      <td>recommend</td>\n",
              "    </tr>\n",
              "    <tr>\n",
              "      <th>13</th>\n",
              "      <td>블랙팬서 다음에 볼 영화 알려줘</td>\n",
              "      <td>recommend</td>\n",
              "    </tr>\n",
              "    <tr>\n",
              "      <th>14</th>\n",
              "      <td>토르3편 다음에 볼 영화 알려줘</td>\n",
              "      <td>recommend</td>\n",
              "    </tr>\n",
              "    <tr>\n",
              "      <th>15</th>\n",
              "      <td>라그나로크 다음에 볼  영화 알려줘</td>\n",
              "      <td>recommend</td>\n",
              "    </tr>\n",
              "    <tr>\n",
              "      <th>16</th>\n",
              "      <td>번역논란된 히어로무비 알려줘</td>\n",
              "      <td>findMovie</td>\n",
              "    </tr>\n",
              "    <tr>\n",
              "      <th>17</th>\n",
              "      <td>박지훈번역가가 번역한 영화 알려줘</td>\n",
              "      <td>findMovie</td>\n",
              "    </tr>\n",
              "    <tr>\n",
              "      <th>18</th>\n",
              "      <td>닥터스트레인지 나오는 최신영화 알려줘</td>\n",
              "      <td>findMovie</td>\n",
              "    </tr>\n",
              "    <tr>\n",
              "      <th>19</th>\n",
              "      <td>그루트 출연하는 히어로무비 알려줘</td>\n",
              "      <td>findMovie</td>\n",
              "    </tr>\n",
              "    <tr>\n",
              "      <th>20</th>\n",
              "      <td>토르 나오는 히어로무비 알려줘</td>\n",
              "      <td>findMovie</td>\n",
              "    </tr>\n",
              "    <tr>\n",
              "      <th>21</th>\n",
              "      <td>캡틴아메리카 나오는 마블영화 이름이 뭐지?</td>\n",
              "      <td>findMovie</td>\n",
              "    </tr>\n",
              "    <tr>\n",
              "      <th>22</th>\n",
              "      <td>톰 히들스턴 출연하는 2018년 개봉한영화 알려줘</td>\n",
              "      <td>findMovie</td>\n",
              "    </tr>\n",
              "    <tr>\n",
              "      <th>23</th>\n",
              "      <td>마크러팔러 출연하는 히어로무비 이름이 뭐지?</td>\n",
              "      <td>findMovie</td>\n",
              "    </tr>\n",
              "    <tr>\n",
              "      <th>24</th>\n",
              "      <td>엘리자베스 올슨 출연하는 마블영화 제목이뭐지?</td>\n",
              "      <td>findMovie</td>\n",
              "    </tr>\n",
              "    <tr>\n",
              "      <th>25</th>\n",
              "      <td>엘리자베스 올슨 나오는 히어로무비 제목이뭐지?</td>\n",
              "      <td>findMovie</td>\n",
              "    </tr>\n",
              "    <tr>\n",
              "      <th>26</th>\n",
              "      <td>앤서니 매키 나오는 히어로무비 제목이뭐지?</td>\n",
              "      <td>findMovie</td>\n",
              "    </tr>\n",
              "    <tr>\n",
              "      <th>27</th>\n",
              "      <td>크리스에반스 출연하는 2018년 개봉한영화 제목이뭐지?</td>\n",
              "      <td>findMovie</td>\n",
              "    </tr>\n",
              "    <tr>\n",
              "      <th>28</th>\n",
              "      <td>아이언맨 나오는 디즈니영화 이름이뭐야?</td>\n",
              "      <td>findMovie</td>\n",
              "    </tr>\n",
              "    <tr>\n",
              "      <th>29</th>\n",
              "      <td>워머신 나오는 히어로무비 제목이뭐지?</td>\n",
              "      <td>findMovie</td>\n",
              "    </tr>\n",
              "    <tr>\n",
              "      <th>...</th>\n",
              "      <td>...</td>\n",
              "      <td>...</td>\n",
              "    </tr>\n",
              "    <tr>\n",
              "      <th>2877</th>\n",
              "      <td>안시성 관람 등급 알아?</td>\n",
              "      <td>getGrade</td>\n",
              "    </tr>\n",
              "    <tr>\n",
              "      <th>2878</th>\n",
              "      <td>인터스텔라 상영 등급 알고싶어</td>\n",
              "      <td>getGrade</td>\n",
              "    </tr>\n",
              "    <tr>\n",
              "      <th>2879</th>\n",
              "      <td>인피니티워 관람 등급 몇 세야??</td>\n",
              "      <td>getGrade</td>\n",
              "    </tr>\n",
              "    <tr>\n",
              "      <th>2880</th>\n",
              "      <td>겨울왕국 상영 등급 검색해</td>\n",
              "      <td>search</td>\n",
              "    </tr>\n",
              "    <tr>\n",
              "      <th>2881</th>\n",
              "      <td>셔터 상영 등급 뭐야?</td>\n",
              "      <td>getGrade</td>\n",
              "    </tr>\n",
              "    <tr>\n",
              "      <th>2882</th>\n",
              "      <td>라라랜드 상영 등급 찾아</td>\n",
              "      <td>getGrade</td>\n",
              "    </tr>\n",
              "    <tr>\n",
              "      <th>2883</th>\n",
              "      <td>관람 등급 얘기해줘</td>\n",
              "      <td>getGrade</td>\n",
              "    </tr>\n",
              "    <tr>\n",
              "      <th>2884</th>\n",
              "      <td>해빙 관람 등급 뭐지?</td>\n",
              "      <td>getGrade</td>\n",
              "    </tr>\n",
              "    <tr>\n",
              "      <th>2885</th>\n",
              "      <td>안시성 관람 등급 알려줘</td>\n",
              "      <td>getGrade</td>\n",
              "    </tr>\n",
              "    <tr>\n",
              "      <th>2886</th>\n",
              "      <td>해빙 상영 등급 알려줘</td>\n",
              "      <td>getGrade</td>\n",
              "    </tr>\n",
              "    <tr>\n",
              "      <th>2887</th>\n",
              "      <td>라라랜드 상영 등급 몇 세야??</td>\n",
              "      <td>getGrade</td>\n",
              "    </tr>\n",
              "    <tr>\n",
              "      <th>2888</th>\n",
              "      <td>인피니티워 관람 등급 검색해</td>\n",
              "      <td>search</td>\n",
              "    </tr>\n",
              "    <tr>\n",
              "      <th>2889</th>\n",
              "      <td>겨울왕국 관람 등급 알려줘</td>\n",
              "      <td>getGrade</td>\n",
              "    </tr>\n",
              "    <tr>\n",
              "      <th>2890</th>\n",
              "      <td>셔터 관람 등급 얘기해줘</td>\n",
              "      <td>getGrade</td>\n",
              "    </tr>\n",
              "    <tr>\n",
              "      <th>2891</th>\n",
              "      <td>상영 등급 뭐지?</td>\n",
              "      <td>getGrade</td>\n",
              "    </tr>\n",
              "    <tr>\n",
              "      <th>2892</th>\n",
              "      <td>셔터 관람 등급 찾아</td>\n",
              "      <td>getGrade</td>\n",
              "    </tr>\n",
              "    <tr>\n",
              "      <th>2893</th>\n",
              "      <td>겨울왕국 상영 등급 검색해</td>\n",
              "      <td>search</td>\n",
              "    </tr>\n",
              "    <tr>\n",
              "      <th>2894</th>\n",
              "      <td>관람 등급 뭐지?</td>\n",
              "      <td>getGrade</td>\n",
              "    </tr>\n",
              "    <tr>\n",
              "      <th>2895</th>\n",
              "      <td>라라랜드 상영 등급 뭐야?</td>\n",
              "      <td>getGrade</td>\n",
              "    </tr>\n",
              "    <tr>\n",
              "      <th>2896</th>\n",
              "      <td>인피니티워 관람 등급 얘기해줘</td>\n",
              "      <td>getGrade</td>\n",
              "    </tr>\n",
              "    <tr>\n",
              "      <th>2897</th>\n",
              "      <td>안시성 상영 등급 알아?</td>\n",
              "      <td>getGrade</td>\n",
              "    </tr>\n",
              "    <tr>\n",
              "      <th>2898</th>\n",
              "      <td>해빙 상영 등급 알려줘</td>\n",
              "      <td>getGrade</td>\n",
              "    </tr>\n",
              "    <tr>\n",
              "      <th>2899</th>\n",
              "      <td>인터스텔라 관람 등급 몇 세야??</td>\n",
              "      <td>getGrade</td>\n",
              "    </tr>\n",
              "    <tr>\n",
              "      <th>2900</th>\n",
              "      <td>관람 등급 알고싶어</td>\n",
              "      <td>getGrade</td>\n",
              "    </tr>\n",
              "    <tr>\n",
              "      <th>2901</th>\n",
              "      <td>인피니티워 상영 등급 알려줘</td>\n",
              "      <td>getGrade</td>\n",
              "    </tr>\n",
              "    <tr>\n",
              "      <th>2902</th>\n",
              "      <td>해빙 관람 등급 몇 세야??</td>\n",
              "      <td>getGrade</td>\n",
              "    </tr>\n",
              "    <tr>\n",
              "      <th>2903</th>\n",
              "      <td>안시성 상영 등급 찾아</td>\n",
              "      <td>getGrade</td>\n",
              "    </tr>\n",
              "    <tr>\n",
              "      <th>2904</th>\n",
              "      <td>인터스텔라 상영 등급 알려줘</td>\n",
              "      <td>getGrade</td>\n",
              "    </tr>\n",
              "    <tr>\n",
              "      <th>2905</th>\n",
              "      <td>겨울왕국 상영 등급 얘기해줘</td>\n",
              "      <td>getGrade</td>\n",
              "    </tr>\n",
              "    <tr>\n",
              "      <th>2906</th>\n",
              "      <td>셔터 관람 등급 알려줘</td>\n",
              "      <td>getGrade</td>\n",
              "    </tr>\n",
              "  </tbody>\n",
              "</table>\n",
              "<p>2907 rows × 2 columns</p>\n",
              "</div>"
            ],
            "text/plain": [
              "                            sentence     intent\n",
              "0                           QUESTION     INTENT\n",
              "1      윈터솔져 나오는 2018년 개봉한 영화 제목이 뭐지?  findMovie\n",
              "2                     타노스 나오는 영화 알려줘  findMovie\n",
              "3                     어벤져스 3편 이름 알려줘  findMovie\n",
              "4                       어벤져스 최신작 알려줘  findMovie\n",
              "5                     어벤져스 최근작품이 뭐지?  findMovie\n",
              "6                 루소형제 감독의 최근작품이 뭐지?  findMovie\n",
              "7                          MCU영화 알려줘  findMovie\n",
              "8                많은 히어로들이 나오는 영화 알려줘  findMovie\n",
              "9                 초호화캐스팅의 헐리웃 영화 알려줘  findMovie\n",
              "10                      어벤져스2 속편 알려줘  findMovie\n",
              "11                       어벤져스 속편 알려줘  findMovie\n",
              "12            토르라그나로크 다음에 볼만한 영화 알려줘  recommend\n",
              "13                 블랙팬서 다음에 볼 영화 알려줘  recommend\n",
              "14                 토르3편 다음에 볼 영화 알려줘  recommend\n",
              "15               라그나로크 다음에 볼  영화 알려줘  recommend\n",
              "16                   번역논란된 히어로무비 알려줘  findMovie\n",
              "17                박지훈번역가가 번역한 영화 알려줘  findMovie\n",
              "18              닥터스트레인지 나오는 최신영화 알려줘  findMovie\n",
              "19                그루트 출연하는 히어로무비 알려줘  findMovie\n",
              "20                  토르 나오는 히어로무비 알려줘  findMovie\n",
              "21           캡틴아메리카 나오는 마블영화 이름이 뭐지?  findMovie\n",
              "22       톰 히들스턴 출연하는 2018년 개봉한영화 알려줘  findMovie\n",
              "23          마크러팔러 출연하는 히어로무비 이름이 뭐지?  findMovie\n",
              "24         엘리자베스 올슨 출연하는 마블영화 제목이뭐지?  findMovie\n",
              "25         엘리자베스 올슨 나오는 히어로무비 제목이뭐지?  findMovie\n",
              "26           앤서니 매키 나오는 히어로무비 제목이뭐지?  findMovie\n",
              "27    크리스에반스 출연하는 2018년 개봉한영화 제목이뭐지?  findMovie\n",
              "28             아이언맨 나오는 디즈니영화 이름이뭐야?  findMovie\n",
              "29              워머신 나오는 히어로무비 제목이뭐지?  findMovie\n",
              "...                              ...        ...\n",
              "2877                   안시성 관람 등급 알아?   getGrade\n",
              "2878                인터스텔라 상영 등급 알고싶어   getGrade\n",
              "2879              인피니티워 관람 등급 몇 세야??   getGrade\n",
              "2880                  겨울왕국 상영 등급 검색해     search\n",
              "2881                    셔터 상영 등급 뭐야?   getGrade\n",
              "2882                   라라랜드 상영 등급 찾아   getGrade\n",
              "2883                      관람 등급 얘기해줘   getGrade\n",
              "2884                    해빙 관람 등급 뭐지?   getGrade\n",
              "2885                   안시성 관람 등급 알려줘   getGrade\n",
              "2886                    해빙 상영 등급 알려줘   getGrade\n",
              "2887               라라랜드 상영 등급 몇 세야??   getGrade\n",
              "2888                 인피니티워 관람 등급 검색해     search\n",
              "2889                  겨울왕국 관람 등급 알려줘   getGrade\n",
              "2890                   셔터 관람 등급 얘기해줘   getGrade\n",
              "2891                       상영 등급 뭐지?   getGrade\n",
              "2892                     셔터 관람 등급 찾아   getGrade\n",
              "2893                  겨울왕국 상영 등급 검색해     search\n",
              "2894                       관람 등급 뭐지?   getGrade\n",
              "2895                  라라랜드 상영 등급 뭐야?   getGrade\n",
              "2896                인피니티워 관람 등급 얘기해줘   getGrade\n",
              "2897                   안시성 상영 등급 알아?   getGrade\n",
              "2898                    해빙 상영 등급 알려줘   getGrade\n",
              "2899              인터스텔라 관람 등급 몇 세야??   getGrade\n",
              "2900                      관람 등급 알고싶어   getGrade\n",
              "2901                 인피니티워 상영 등급 알려줘   getGrade\n",
              "2902                 해빙 관람 등급 몇 세야??   getGrade\n",
              "2903                    안시성 상영 등급 찾아   getGrade\n",
              "2904                 인터스텔라 상영 등급 알려줘   getGrade\n",
              "2905                 겨울왕국 상영 등급 얘기해줘   getGrade\n",
              "2906                    셔터 관람 등급 알려줘   getGrade\n",
              "\n",
              "[2907 rows x 2 columns]"
            ]
          },
          "metadata": {
            "tags": []
          },
          "execution_count": 8
        }
      ]
    },
    {
      "metadata": {
        "id": "J_Nxl80EBcuh",
        "colab_type": "code",
        "outputId": "2ecc69aa-b2ca-46b1-ddaa-285c329fb33a",
        "colab": {
          "base_uri": "https://localhost:8080/",
          "height": 193
        }
      },
      "cell_type": "code",
      "source": [
        "train_dataset = [(l, d) for d,l in zip(train_raw['intent'], train_raw['sentence'])]\n",
        "train_dataset[:10]"
      ],
      "execution_count": 0,
      "outputs": [
        {
          "output_type": "execute_result",
          "data": {
            "text/plain": [
              "[('QUESTION', 'INTENT'),\n",
              " ('윈터솔져 나오는 2018년 개봉한 영화 제목이 뭐지?', 'findMovie'),\n",
              " ('타노스 나오는 영화 알려줘', 'findMovie'),\n",
              " ('어벤져스 3편 이름 알려줘', 'findMovie'),\n",
              " ('어벤져스 최신작 알려줘', 'findMovie'),\n",
              " ('어벤져스 최근작품이 뭐지?', 'findMovie'),\n",
              " ('루소형제 감독의 최근작품이 뭐지?', 'findMovie'),\n",
              " ('MCU영화 알려줘', 'findMovie'),\n",
              " ('많은 히어로들이 나오는 영화 알려줘', 'findMovie'),\n",
              " ('초호화캐스팅의 헐리웃 영화 알려줘', 'findMovie')]"
            ]
          },
          "metadata": {
            "tags": []
          },
          "execution_count": 9
        }
      ]
    },
    {
      "metadata": {
        "id": "Sudqr2xOBcum",
        "colab_type": "code",
        "colab": {}
      },
      "cell_type": "code",
      "source": [
        "seq_len = 32\n",
        "\n",
        "length_clip = nlp.data.PadSequence(seq_len, pad_val=\"<pad>\")\n",
        "\n",
        "#sent: sentence\n",
        "def preprocess(data):\n",
        "    sent, entity = data\n",
        "    char_sent = list(str(sent))\n",
        "    char_entity = str(entity)\n",
        "    return(length_clip(char_sent), len(sent),char_entity)\n",
        "\n",
        "def preprocess_dataset(dataset):\n",
        "    start = time.time()\n",
        "    with mp.Pool() as pool:\n",
        "        dataset = gluon.data.SimpleDataset(pool.map(preprocess, dataset))\n",
        "    end = time.time()\n",
        "    print('Done! Tokenizing Time={:.2f}s, #Sentences={}'\n",
        "          .format(end - start, len(dataset)))\n",
        "    return dataset"
      ],
      "execution_count": 0,
      "outputs": []
    },
    {
      "metadata": {
        "id": "hOG0urUABcuo",
        "colab_type": "code",
        "outputId": "6ac23505-889a-47ad-b8a4-542e3b4d02db",
        "colab": {
          "base_uri": "https://localhost:8080/",
          "height": 52
        }
      },
      "cell_type": "code",
      "source": [
        "train_preprocessed  = preprocess_dataset(train_dataset)\n",
        "train_preprocessed"
      ],
      "execution_count": 0,
      "outputs": [
        {
          "output_type": "stream",
          "text": [
            "Done! Tokenizing Time=0.13s, #Sentences=2937\n"
          ],
          "name": "stdout"
        },
        {
          "output_type": "execute_result",
          "data": {
            "text/plain": [
              "<mxnet.gluon.data.dataset.SimpleDataset at 0x7f4713b84588>"
            ]
          },
          "metadata": {
            "tags": []
          },
          "execution_count": 11
        }
      ]
    },
    {
      "metadata": {
        "id": "F_dfJZh6Bcuu",
        "colab_type": "code",
        "colab": {}
      },
      "cell_type": "code",
      "source": [
        "counter_sent   = nlp.data.count_tokens(itertools.chain.from_iterable([c for c, _, _ in train_preprocessed]))\n",
        "counter_intent = nlp.data.count_tokens([c for _,_, c in train_preprocessed])"
      ],
      "execution_count": 0,
      "outputs": []
    },
    {
      "metadata": {
        "id": "4SuWMCIKBcux",
        "colab_type": "code",
        "outputId": "f1af7644-29e1-4e66-81d5-491f6d788870",
        "colab": {
          "base_uri": "https://localhost:8080/",
          "height": 334
        }
      },
      "cell_type": "code",
      "source": [
        "counter_intent"
      ],
      "execution_count": 0,
      "outputs": [
        {
          "output_type": "execute_result",
          "data": {
            "text/plain": [
              "Counter({'INTENT': 1,\n",
              "         'findMovie': 395,\n",
              "         'findPerson': 190,\n",
              "         'findPlot': 6,\n",
              "         'findSimilar': 19,\n",
              "         'getCast': 18,\n",
              "         'getGanre': 5,\n",
              "         'getGrade': 167,\n",
              "         'getMaker': 383,\n",
              "         'getOfficialSite': 129,\n",
              "         'getOpenDate': 244,\n",
              "         'getPlot': 273,\n",
              "         'getPoster': 207,\n",
              "         'getRunningTime': 163,\n",
              "         'getTrailer': 157,\n",
              "         'isTrue': 1,\n",
              "         'recommend': 320,\n",
              "         'search': 259})"
            ]
          },
          "metadata": {
            "tags": []
          },
          "execution_count": 13
        }
      ]
    },
    {
      "metadata": {
        "id": "VPmcwOQzBcu0",
        "colab_type": "code",
        "outputId": "e618c7bc-f026-4013-fb92-4f38a58d058e",
        "colab": {
          "base_uri": "https://localhost:8080/",
          "height": 9468
        }
      },
      "cell_type": "code",
      "source": [
        "counter_sent"
      ],
      "execution_count": 0,
      "outputs": [
        {
          "output_type": "execute_result",
          "data": {
            "text/plain": [
              "Counter({' ': 9835,\n",
              "         '-': 1,\n",
              "         '.': 4,\n",
              "         '0': 84,\n",
              "         '1': 120,\n",
              "         '2': 73,\n",
              "         '3': 44,\n",
              "         '4': 1,\n",
              "         '5': 13,\n",
              "         '6': 2,\n",
              "         '7': 11,\n",
              "         '8': 49,\n",
              "         '9': 2,\n",
              "         '<pad>': 46503,\n",
              "         '?': 964,\n",
              "         'A': 2,\n",
              "         'C': 19,\n",
              "         'D': 119,\n",
              "         'E': 1,\n",
              "         'F': 3,\n",
              "         'G': 1,\n",
              "         'I': 5,\n",
              "         'J': 1,\n",
              "         'K': 1,\n",
              "         'L': 34,\n",
              "         'M': 20,\n",
              "         'N': 1,\n",
              "         'O': 46,\n",
              "         'P': 1,\n",
              "         'Q': 1,\n",
              "         'R': 33,\n",
              "         'S': 11,\n",
              "         'T': 8,\n",
              "         'U': 53,\n",
              "         'V': 77,\n",
              "         'X': 1,\n",
              "         'a': 5,\n",
              "         'e': 6,\n",
              "         'i': 2,\n",
              "         'l': 6,\n",
              "         'm': 2,\n",
              "         'n': 3,\n",
              "         'r': 6,\n",
              "         's': 3,\n",
              "         't': 6,\n",
              "         'x': 2,\n",
              "         '가': 168,\n",
              "         '각': 10,\n",
              "         '간': 271,\n",
              "         '갈': 1,\n",
              "         '감': 152,\n",
              "         '같': 13,\n",
              "         '개': 258,\n",
              "         '객': 5,\n",
              "         '거': 84,\n",
              "         '걸': 31,\n",
              "         '검': 254,\n",
              "         '게': 12,\n",
              "         '겨': 234,\n",
              "         '결': 11,\n",
              "         '경': 9,\n",
              "         '계': 3,\n",
              "         '고': 403,\n",
              "         '곡': 2,\n",
              "         '골': 1,\n",
              "         '공': 233,\n",
              "         '과': 11,\n",
              "         '관': 118,\n",
              "         '광': 2,\n",
              "         '교': 1,\n",
              "         '구': 90,\n",
              "         '국': 340,\n",
              "         '군': 4,\n",
              "         '궁': 1,\n",
              "         '귀': 8,\n",
              "         '규': 2,\n",
              "         '그': 23,\n",
              "         '극': 129,\n",
              "         '근': 7,\n",
              "         '글': 3,\n",
              "         '금': 3,\n",
              "         '급': 309,\n",
              "         '기': 162,\n",
              "         '긴': 3,\n",
              "         '김': 2,\n",
              "         '깊': 2,\n",
              "         '까': 26,\n",
              "         '깜': 3,\n",
              "         '깨': 1,\n",
              "         '꼬': 1,\n",
              "         '꼭': 5,\n",
              "         '꾸': 2,\n",
              "         '꿈': 3,\n",
              "         '끝': 1,\n",
              "         '끼': 4,\n",
              "         '낌': 2,\n",
              "         '나': 567,\n",
              "         '난': 4,\n",
              "         '날': 44,\n",
              "         '남': 56,\n",
              "         '낫': 1,\n",
              "         '낭': 1,\n",
              "         '내': 122,\n",
              "         '낸': 1,\n",
              "         '냐': 3,\n",
              "         '너': 20,\n",
              "         '넘': 4,\n",
              "         '네': 3,\n",
              "         '넷': 3,\n",
              "         '녀': 2,\n",
              "         '년': 38,\n",
              "         '념': 1,\n",
              "         '노': 54,\n",
              "         '논': 2,\n",
              "         '놀': 27,\n",
              "         '놈': 2,\n",
              "         '놉': 68,\n",
              "         '누': 78,\n",
              "         '눈': 3,\n",
              "         '느': 100,\n",
              "         '는': 1074,\n",
              "         '니': 281,\n",
              "         '닌': 2,\n",
              "         '님': 3,\n",
              "         '닝': 35,\n",
              "         '다': 64,\n",
              "         '닥': 1,\n",
              "         '닦': 1,\n",
              "         '단': 3,\n",
              "         '달': 1,\n",
              "         '담': 1,\n",
              "         '답': 1,\n",
              "         '당': 8,\n",
              "         '대': 8,\n",
              "         '댄': 1,\n",
              "         '더': 14,\n",
              "         '던': 3,\n",
              "         '덜': 1,\n",
              "         '덮': 1,\n",
              "         '데': 84,\n",
              "         '도': 14,\n",
              "         '독': 141,\n",
              "         '돋': 4,\n",
              "         '돌': 1,\n",
              "         '동': 16,\n",
              "         '돼': 2,\n",
              "         '되': 1,\n",
              "         '된': 10,\n",
              "         '두': 41,\n",
              "         '드': 299,\n",
              "         '든': 21,\n",
              "         '들': 123,\n",
              "         '듭': 1,\n",
              "         '등': 206,\n",
              "         '디': 223,\n",
              "         '딩': 4,\n",
              "         '따': 7,\n",
              "         '딸': 2,\n",
              "         '땀': 2,\n",
              "         '때': 3,\n",
              "         '떠': 1,\n",
              "         '떤': 98,\n",
              "         '떨': 1,\n",
              "         '떻': 2,\n",
              "         '또': 1,\n",
              "         '뚫': 1,\n",
              "         '뛰': 4,\n",
              "         '뜻': 7,\n",
              "         '라': 869,\n",
              "         '란': 19,\n",
              "         '람': 110,\n",
              "         '랑': 10,\n",
              "         '래': 23,\n",
              "         '랙': 4,\n",
              "         '랜': 232,\n",
              "         '략': 66,\n",
              "         '러': 126,\n",
              "         '런': 5,\n",
              "         '럼': 4,\n",
              "         '레': 55,\n",
              "         '렐': 1,\n",
              "         '렛': 3,\n",
              "         '려': 613,\n",
              "         '력': 10,\n",
              "         '련': 10,\n",
              "         '렸': 1,\n",
              "         '령': 1,\n",
              "         '로': 96,\n",
              "         '론': 1,\n",
              "         '롭': 4,\n",
              "         '루': 45,\n",
              "         '룬': 1,\n",
              "         '르': 22,\n",
              "         '른': 6,\n",
              "         '를': 12,\n",
              "         '름': 130,\n",
              "         '리': 298,\n",
              "         '릭': 6,\n",
              "         '릴': 54,\n",
              "         '링': 51,\n",
              "         '마': 103,\n",
              "         '막': 5,\n",
              "         '만': 166,\n",
              "         '많': 3,\n",
              "         '말': 54,\n",
              "         '망': 2,\n",
              "         '맡': 41,\n",
              "         '매': 47,\n",
              "         '맥': 5,\n",
              "         '맨': 19,\n",
              "         '맷': 2,\n",
              "         '머': 11,\n",
              "         '먹': 2,\n",
              "         '먼': 3,\n",
              "         '멋': 3,\n",
              "         '메': 14,\n",
              "         '멜': 1,\n",
              "         '면': 14,\n",
              "         '멸': 1,\n",
              "         '명': 6,\n",
              "         '몇': 107,\n",
              "         '모': 35,\n",
              "         '목': 23,\n",
              "         '몬': 1,\n",
              "         '몰': 1,\n",
              "         '못': 4,\n",
              "         '무': 47,\n",
              "         '문': 2,\n",
              "         '물': 52,\n",
              "         '뭐': 246,\n",
              "         '뭡': 2,\n",
              "         '뮤': 6,\n",
              "         '미': 32,\n",
              "         '민': 4,\n",
              "         '믿': 2,\n",
              "         '밌': 8,\n",
              "         '밑': 1,\n",
              "         '바': 2,\n",
              "         '박': 5,\n",
              "         '반': 16,\n",
              "         '받': 2,\n",
              "         '밤': 1,\n",
              "         '방': 5,\n",
              "         '배': 195,\n",
              "         '밴': 1,\n",
              "         '버': 8,\n",
              "         '벅': 3,\n",
              "         '번': 44,\n",
              "         '범': 1,\n",
              "         '법': 3,\n",
              "         '베': 9,\n",
              "         '벤': 34,\n",
              "         '벨': 5,\n",
              "         '변': 1,\n",
              "         '별': 3,\n",
              "         '보': 261,\n",
              "         '복': 1,\n",
              "         '본': 4,\n",
              "         '볼': 30,\n",
              "         '봇': 1,\n",
              "         '봉': 254,\n",
              "         '봐': 19,\n",
              "         '봤': 2,\n",
              "         '부': 11,\n",
              "         '분': 41,\n",
              "         '불': 1,\n",
              "         '브': 36,\n",
              "         '블': 23,\n",
              "         '비': 26,\n",
              "         '빌': 16,\n",
              "         '빙': 259,\n",
              "         '빠': 1,\n",
              "         '뺑': 1,\n",
              "         '쁜': 9,\n",
              "         '사': 443,\n",
              "         '살': 6,\n",
              "         '상': 207,\n",
              "         '새': 4,\n",
              "         '색': 256,\n",
              "         '생': 49,\n",
              "         '서': 181,\n",
              "         '석': 1,\n",
              "         '선': 4,\n",
              "         '설': 4,\n",
              "         '섭': 2,\n",
              "         '성': 261,\n",
              "         '세': 45,\n",
              "         '셉': 1,\n",
              "         '셔': 251,\n",
              "         '션': 38,\n",
              "         '소': 73,\n",
              "         '속': 3,\n",
              "         '손': 2,\n",
              "         '솔': 3,\n",
              "         '수': 21,\n",
              "         '슈': 1,\n",
              "         '스': 855,\n",
              "         '슨': 13,\n",
              "         '슬': 45,\n",
              "         '슴': 1,\n",
              "         '습': 1,\n",
              "         '슷': 1,\n",
              "         '시': 712,\n",
              "         '식': 95,\n",
              "         '신': 47,\n",
              "         '실': 3,\n",
              "         '심': 6,\n",
              "         '싶': 200,\n",
              "         '싸': 1,\n",
              "         '쓰': 5,\n",
              "         '쓸': 1,\n",
              "         '씁': 1,\n",
              "         '씌': 1,\n",
              "         '씨': 1,\n",
              "         '씬': 4,\n",
              "         '아': 313,\n",
              "         '악': 76,\n",
              "         '안': 250,\n",
              "         '않': 6,\n",
              "         '알': 911,\n",
              "         '압': 1,\n",
              "         '애': 11,\n",
              "         '액': 2,\n",
              "         '앤': 30,\n",
              "         '야': 362,\n",
              "         '약': 72,\n",
              "         '양': 8,\n",
              "         '얘': 117,\n",
              "         '어': 786,\n",
              "         '억': 2,\n",
              "         '언': 72,\n",
              "         '얼': 35,\n",
              "         '엄': 4,\n",
              "         '없': 1,\n",
              "         '엇': 7,\n",
              "         '었': 96,\n",
              "         '엉': 1,\n",
              "         '에': 189,\n",
              "         '엔': 4,\n",
              "         '엘': 72,\n",
              "         '엠': 45,\n",
              "         '여': 155,\n",
              "         '역': 16,\n",
              "         '연': 124,\n",
              "         '열': 1,\n",
              "         '였': 15,\n",
              "         '영': 1498,\n",
              "         '예': 135,\n",
              "         '옛': 2,\n",
              "         '오': 435,\n",
              "         '온': 20,\n",
              "         '올': 11,\n",
              "         '와': 5,\n",
              "         '완': 3,\n",
              "         '왔': 5,\n",
              "         '왕': 233,\n",
              "         '외': 11,\n",
              "         '요': 61,\n",
              "         '용': 72,\n",
              "         '우': 154,\n",
              "         '욱': 2,\n",
              "         '운': 31,\n",
              "         '울': 240,\n",
              "         '웃': 1,\n",
              "         '웅': 60,\n",
              "         '워': 250,\n",
              "         '원': 19,\n",
              "         '월': 3,\n",
              "         '웜': 4,\n",
              "         '웨': 26,\n",
              "         '웰': 1,\n",
              "         '웹': 18,\n",
              "         '위': 3,\n",
              "         '윈': 3,\n",
              "         '유': 38,\n",
              "         '육': 1,\n",
              "         '으': 8,\n",
              "         '은': 255,\n",
              "         '을': 50,\n",
              "         '음': 130,\n",
              "         '의': 119,\n",
              "         '이': 842,\n",
              "         '인': 637,\n",
              "         '일': 273,\n",
              "         '임': 35,\n",
              "         '입': 1,\n",
              "         '있': 126,\n",
              "         '자': 98,\n",
              "         '작': 332,\n",
              "         '잔': 1,\n",
              "         '잘': 6,\n",
              "         '잠': 10,\n",
              "         '장': 171,\n",
              "         '재': 46,\n",
              "         '잼': 5,\n",
              "         '쟁': 7,\n",
              "         '저': 34,\n",
              "         '적': 18,\n",
              "         '전': 66,\n",
              "         '점': 4,\n",
              "         '정': 57,\n",
              "         '제': 247,\n",
              "         '젤': 42,\n",
              "         '져': 8,\n",
              "         '조': 68,\n",
              "         '족': 7,\n",
              "         '존': 26,\n",
              "         '좀': 34,\n",
              "         '종': 1,\n",
              "         '좋': 51,\n",
              "         '죄': 1,\n",
              "         '주': 282,\n",
              "         '죽': 1,\n",
              "         '줄': 80,\n",
              "         '중': 13,\n",
              "         '줘': 1237,\n",
              "         '쥐': 1,\n",
              "         '즈': 33,\n",
              "         '즐': 1,\n",
              "         '증': 4,\n",
              "         '지': 325,\n",
              "         '직': 2,\n",
              "         '진': 72,\n",
              "         '질': 1,\n",
              "         '집': 1,\n",
              "         '짜': 5,\n",
              "         '짝': 4,\n",
              "         '째': 39,\n",
              "         '쩌': 1,\n",
              "         '찍': 4,\n",
              "         '찝': 6,\n",
              "         '차': 33,\n",
              "         '찬': 2,\n",
              "         '찾': 165,\n",
              "         '채': 1,\n",
              "         '책': 17,\n",
              "         '처': 4,\n",
              "         '천': 50,\n",
              "         '첫': 1,\n",
              "         '청': 32,\n",
              "         '초': 1,\n",
              "         '총': 34,\n",
              "         '최': 32,\n",
              "         '추': 54,\n",
              "         '춘': 3,\n",
              "         '출': 166,\n",
              "         '춤': 1,\n",
              "         '충': 1,\n",
              "         '츠': 1,\n",
              "         '치': 4,\n",
              "         '친': 3,\n",
              "         '카': 10,\n",
              "         '칼': 3,\n",
              "         '캐': 7,\n",
              "         '캡': 11,\n",
              "         '커': 30,\n",
              "         '컥': 1,\n",
              "         '컨': 3,\n",
              "         '컬': 4,\n",
              "         '케': 3,\n",
              "         '코': 2,\n",
              "         '콤': 1,\n",
              "         '쿠': 1,\n",
              "         '크': 62,\n",
              "         '큰': 2,\n",
              "         '클': 3,\n",
              "         '큼': 1,\n",
              "         '키': 15,\n",
              "         '타': 86,\n",
              "         '탁': 5,\n",
              "         '탄': 1,\n",
              "         '태': 12,\n",
              "         '탭': 1,\n",
              "         '터': 662,\n",
              "         '턴': 10,\n",
              "         '텔': 247,\n",
              "         '토': 102,\n",
              "         '톤': 46,\n",
              "         '톰': 10,\n",
              "         '투': 28,\n",
              "         '튜': 30,\n",
              "         '트': 84,\n",
              "         '티': 219,\n",
              "         '틴': 15,\n",
              "         '팅': 1,\n",
              "         '파': 18,\n",
              "         '판': 2,\n",
              "         '팔': 6,\n",
              "         '패': 1,\n",
              "         '팬': 1,\n",
              "         '퍼': 22,\n",
              "         '페': 109,\n",
              "         '펙': 2,\n",
              "         '편': 131,\n",
              "         '평': 2,\n",
              "         '포': 208,\n",
              "         '푼': 2,\n",
              "         '품': 109,\n",
              "         '프': 32,\n",
              "         '픈': 4,\n",
              "         '플': 5,\n",
              "         '피': 228,\n",
              "         '픽': 3,\n",
              "         '하': 135,\n",
              "         '학': 5,\n",
              "         '한': 255,\n",
              "         '할': 13,\n",
              "         '함': 1,\n",
              "         '합': 1,\n",
              "         '해': 853,\n",
              "         '했': 3,\n",
              "         '행': 1,\n",
              "         '허': 1,\n",
              "         '헐': 14,\n",
              "         '헤': 1,\n",
              "         '헴': 4,\n",
              "         '혁': 2,\n",
              "         '현': 7,\n",
              "         '형': 34,\n",
              "         '호': 6,\n",
              "         '혼': 1,\n",
              "         '홀': 8,\n",
              "         '홈': 104,\n",
              "         '홍': 98,\n",
              "         '화': 1326,\n",
              "         '확': 1,\n",
              "         '환': 2,\n",
              "         '활': 2,\n",
              "         '황': 1,\n",
              "         '회': 1,\n",
              "         '후': 2,\n",
              "         '훈': 1,\n",
              "         '휴': 1,\n",
              "         '흥': 3,\n",
              "         '히': 49,\n",
              "         '힌': 1,\n",
              "         '힘': 1})"
            ]
          },
          "metadata": {
            "tags": []
          },
          "execution_count": 14
        }
      ]
    },
    {
      "metadata": {
        "id": "03QGciewBcu3",
        "colab_type": "code",
        "outputId": "937810f3-f521-4338-b1e8-4a581690a265",
        "colab": {
          "base_uri": "https://localhost:8080/",
          "height": 34
        }
      },
      "cell_type": "code",
      "source": [
        "# 개별 글자(단어 아님)의 수 \n",
        "len(counter_sent)"
      ],
      "execution_count": 0,
      "outputs": [
        {
          "output_type": "execute_result",
          "data": {
            "text/plain": [
              "537"
            ]
          },
          "metadata": {
            "tags": []
          },
          "execution_count": 15
        }
      ]
    },
    {
      "metadata": {
        "id": "47aGjV9xBcu7",
        "colab_type": "code",
        "colab": {}
      },
      "cell_type": "code",
      "source": [
        "vocab_sent = nlp.Vocab(counter_sent, bos_token=None, eos_token=None, min_freq=3)\n",
        "vocab_intent = nlp.Vocab(counter_intent, bos_token=None, eos_token=None, unknown_token=None, padding_token=None)"
      ],
      "execution_count": 0,
      "outputs": []
    },
    {
      "metadata": {
        "id": "FWwtRmLSBcu9",
        "colab_type": "code",
        "outputId": "5819a50d-6d63-4455-e79d-4e43675e89a3",
        "colab": {
          "base_uri": "https://localhost:8080/",
          "height": 210
        }
      },
      "cell_type": "code",
      "source": [
        "vocab_sent.idx_to_token[:10], vocab_intent.idx_to_token[:10], "
      ],
      "execution_count": 0,
      "outputs": [
        {
          "output_type": "execute_result",
          "data": {
            "text/plain": [
              "(['<unk>', '<pad>', ' ', '영', '화', '줘', '는', '?', '알', '라'],\n",
              " ['findMovie',\n",
              "  'getMaker',\n",
              "  'recommend',\n",
              "  'getPlot',\n",
              "  'search',\n",
              "  'getOpenDate',\n",
              "  'getPoster',\n",
              "  'findPerson',\n",
              "  'getGrade',\n",
              "  'getRunningTime'])"
            ]
          },
          "metadata": {
            "tags": []
          },
          "execution_count": 17
        }
      ]
    },
    {
      "metadata": {
        "id": "HNjXD9AoBcvE",
        "colab_type": "code",
        "outputId": "eee11553-8139-4ee4-b860-831e20587272",
        "colab": {
          "base_uri": "https://localhost:8080/",
          "height": 615
        }
      },
      "cell_type": "code",
      "source": [
        "train_preprocessed_encoded  = [(vocab_sent[sent], length ,vocab_intent[intent])  for sent, length ,intent in train_preprocessed ]\n",
        "train_preprocessed_encoded[1]"
      ],
      "execution_count": 0,
      "outputs": [
        {
          "output_type": "execute_result",
          "data": {
            "text/plain": [
              "([369,\n",
              "  15,\n",
              "  364,\n",
              "  266,\n",
              "  2,\n",
              "  18,\n",
              "  20,\n",
              "  6,\n",
              "  2,\n",
              "  114,\n",
              "  106,\n",
              "  85,\n",
              "  142,\n",
              "  163,\n",
              "  2,\n",
              "  37,\n",
              "  42,\n",
              "  40,\n",
              "  2,\n",
              "  3,\n",
              "  4,\n",
              "  2,\n",
              "  46,\n",
              "  198,\n",
              "  12,\n",
              "  2,\n",
              "  48,\n",
              "  25,\n",
              "  7,\n",
              "  1,\n",
              "  1,\n",
              "  1],\n",
              " 29,\n",
              " 0)"
            ]
          },
          "metadata": {
            "tags": []
          },
          "execution_count": 18
        }
      ]
    },
    {
      "metadata": {
        "id": "s3VQvZVnYE-D",
        "colab_type": "code",
        "outputId": "c6885026-41f7-4aa2-e4b5-605ef841aa6c",
        "colab": {
          "base_uri": "https://localhost:8080/",
          "height": 34
        }
      },
      "cell_type": "code",
      "source": [
        "vocab_sent.idx_to_token[369],vocab_sent.idx_to_token[15], vocab_sent.idx_to_token[364], vocab_sent.idx_to_token[266],  vocab_sent.idx_to_token[2]\\\n",
        ",vocab_sent.idx_to_token[18] "
      ],
      "execution_count": 0,
      "outputs": [
        {
          "output_type": "execute_result",
          "data": {
            "text/plain": [
              "('윈', '터', '솔', '져', ' ', '나')"
            ]
          },
          "metadata": {
            "tags": []
          },
          "execution_count": 19
        }
      ]
    },
    {
      "metadata": {
        "id": "398CrKy1BcvG",
        "colab_type": "code",
        "outputId": "63a3bba4-747f-44c4-f3c7-31aa73276bec",
        "colab": {
          "base_uri": "https://localhost:8080/",
          "height": 34
        }
      },
      "cell_type": "code",
      "source": [
        "vocab_intent.idx_to_token[0]"
      ],
      "execution_count": 0,
      "outputs": [
        {
          "output_type": "execute_result",
          "data": {
            "text/plain": [
              "'findMovie'"
            ]
          },
          "metadata": {
            "tags": []
          },
          "execution_count": 20
        }
      ]
    },
    {
      "metadata": {
        "id": "H4LPfhjLBcvM",
        "colab_type": "code",
        "colab": {}
      },
      "cell_type": "code",
      "source": [
        "train, test = nlp.data.train_valid_split(train_preprocessed_encoded, valid_ratio=0.1)"
      ],
      "execution_count": 0,
      "outputs": []
    },
    {
      "metadata": {
        "id": "API3-KHiBcvP",
        "colab_type": "code",
        "colab": {}
      },
      "cell_type": "code",
      "source": [
        "nbatch = 30\n",
        "batchify_fn = nlp.data.batchify.Tuple(nlp.data.batchify.Stack(),\n",
        "                                      nlp.data.batchify.Stack('float32'),\n",
        "                                      nlp.data.batchify.Stack())\n",
        "\n",
        "train_dataloader  = gluon.data.DataLoader(train, batch_size=nbatch, batchify_fn=batchify_fn, shuffle=True)\n",
        "test_dataloader  = gluon.data.DataLoader(test, batch_size=nbatch, batchify_fn=batchify_fn, shuffle=True)"
      ],
      "execution_count": 0,
      "outputs": []
    },
    {
      "metadata": {
        "id": "DRyJVQquBcvS",
        "colab_type": "code",
        "colab": {}
      },
      "cell_type": "code",
      "source": [
        "class IntentClassification(gluon.HybridBlock):\n",
        "    def __init__(self, vocab_size, vocab_out_size, num_embed, seq_len, hidden_size, **kwargs):\n",
        "        super(IntentClassification, self).__init__(**kwargs)\n",
        "        self.seq_len = seq_len\n",
        "        self.hidden_size = hidden_size \n",
        "        self.vocab_out_size = vocab_out_size\n",
        "        with self.name_scope():\n",
        "            self.embed = nn.Embedding(input_dim=vocab_size, output_dim=num_embed)\n",
        "            self.bigru = rnn.GRU(self.hidden_size, dropout=0.2, bidirectional=True)\n",
        "            self.dense_prev = nn.Dense(10, flatten=False)\n",
        "            self.dense = nn.Dense(self.vocab_out_size)  \n",
        "            \n",
        "    def hybrid_forward(self, F ,inputs, length):\n",
        "        em_out = self.embed(inputs)\n",
        "        bigruout = self.bigru(em_out)\n",
        "        masked_encoded = F.SequenceMask(bigruout,\n",
        "                                        sequence_length=length,\n",
        "                                        use_sequence_length=True).transpose((1,0,2))\n",
        "        dense_out = self.dense_prev(masked_encoded)\n",
        "        outs = self.dense(dense_out) \n",
        "        return(outs)"
      ],
      "execution_count": 0,
      "outputs": []
    },
    {
      "metadata": {
        "id": "l9aLKxihBcvU",
        "colab_type": "code",
        "colab": {}
      },
      "cell_type": "code",
      "source": [
        "ctx = mx.cpu()"
      ],
      "execution_count": 0,
      "outputs": []
    },
    {
      "metadata": {
        "id": "etHBnzsIBcvW",
        "colab_type": "code",
        "colab": {}
      },
      "cell_type": "code",
      "source": [
        "model = IntentClassification(vocab_size = len(vocab_sent.idx_to_token), \n",
        "                             vocab_out_size=len(vocab_intent.idx_to_token), num_embed=50, seq_len=seq_len, hidden_size=30)"
      ],
      "execution_count": 0,
      "outputs": []
    },
    {
      "metadata": {
        "id": "73MuTQkuBcva",
        "colab_type": "code",
        "colab": {}
      },
      "cell_type": "code",
      "source": [
        "model.initialize(mx.initializer.Xavier(), ctx=ctx)"
      ],
      "execution_count": 0,
      "outputs": []
    },
    {
      "metadata": {
        "id": "_p_1-TZuBcvc",
        "colab_type": "code",
        "colab": {}
      },
      "cell_type": "code",
      "source": [
        "trainer = gluon.Trainer(model.collect_params(),\"Adam\")\n",
        "loss = gluon.loss.SoftmaxCELoss() "
      ],
      "execution_count": 0,
      "outputs": []
    },
    {
      "metadata": {
        "id": "ISD-tReCBcvd",
        "colab_type": "code",
        "colab": {}
      },
      "cell_type": "code",
      "source": [
        "model.hybridize()"
      ],
      "execution_count": 0,
      "outputs": []
    },
    {
      "metadata": {
        "id": "326KfpEPBcvg",
        "colab_type": "code",
        "colab": {}
      },
      "cell_type": "code",
      "source": [
        "def evaluate_accuracy(model, data_iter, ctx=ctx):\n",
        "    acc = mx.metric.Accuracy()\n",
        "    for i, (data, length, label) in enumerate(data_iter):\n",
        "        data = data.as_in_context(ctx)\n",
        "        label = label.as_in_context(ctx)\n",
        "        length = length.as_in_context(ctx)\n",
        "        output = model(data.T, length)\n",
        "        predictions = nd.argmax(output, axis=1)\n",
        "        acc.update(preds=predictions, labels=label)\n",
        "    return(acc.get()[1])"
      ],
      "execution_count": 0,
      "outputs": []
    },
    {
      "metadata": {
        "id": "bLVlbcIFBcvi",
        "colab_type": "code",
        "colab": {}
      },
      "cell_type": "code",
      "source": [
        "def calculate_loss(model, data_iter, loss_obj, ctx=ctx):\n",
        "    test_loss = []\n",
        "    for i, (te_data, te_length, te_label) in enumerate(data_iter):\n",
        "        te_data = te_data.as_in_context(ctx)\n",
        "        te_label = te_label.as_in_context(ctx)\n",
        "        te_length = te_length.as_in_context(ctx)\n",
        "        te_output = model(te_data.T, te_length)\n",
        "        loss_te = loss_obj(te_output, te_label)\n",
        "        curr_loss = nd.mean(loss_te).asscalar()\n",
        "        test_loss.append(curr_loss)\n",
        "    return(np.mean(test_loss))"
      ],
      "execution_count": 0,
      "outputs": []
    },
    {
      "metadata": {
        "id": "wdxSPs6ZBcvl",
        "colab_type": "code",
        "outputId": "7ade00c2-b86f-48c8-9f48-66d855b9e1c7",
        "colab": {
          "base_uri": "https://localhost:8080/",
          "height": 1953
        }
      },
      "cell_type": "code",
      "source": [
        "epochs = 100\n",
        "\n",
        "\n",
        "tot_test_loss = []\n",
        "tot_test_accu = []\n",
        "tot_train_loss = []\n",
        "tot_train_accu = []\n",
        "tot_valid_accu = [] \n",
        "for e in range(epochs):\n",
        "    #batch training \n",
        "    for i, (data, length, label) in enumerate(tqdm(train_dataloader)):\n",
        "        data = data.as_in_context(ctx)\n",
        "        label = label.as_in_context(ctx)\n",
        "        length = length.as_in_context(ctx)\n",
        "        with autograd.record():\n",
        "            output = model(data.T, length)\n",
        "            loss_ = loss(output, label)\n",
        "            loss_.backward()\n",
        "        trainer.step(data.shape[0])\n",
        "\n",
        "    #caculate test loss\n",
        "    if e % 10 == 0: \n",
        "        test_loss = calculate_loss(model, test_dataloader, loss_obj = loss, ctx=ctx) \n",
        "        train_loss = calculate_loss(model, train_dataloader, loss_obj = loss, ctx=ctx) \n",
        "        test_accu = evaluate_accuracy(model, test_dataloader,  ctx=ctx)\n",
        "        train_accu = evaluate_accuracy(model, train_dataloader,  ctx=ctx)\n",
        "\n",
        "        print(\"Epoch %s. Train Loss: %s, Test Loss : %s,\" \\\n",
        "        \" Test Accuracy : %s,\" \\\n",
        "        \" Train Accuracy : %s\" % (e, train_loss, test_loss, test_accu, train_accu))    \n",
        "        tot_test_loss.append(test_loss)\n",
        "        tot_train_loss.append(train_loss)\n",
        "        tot_test_accu.append(test_accu)\n",
        "        tot_train_accu.append(train_accu)"
      ],
      "execution_count": 0,
      "outputs": [
        {
          "output_type": "stream",
          "text": [
            "100%|██████████| 89/89 [00:01<00:00, 53.70it/s]\n",
            "  7%|▋         | 6/89 [00:00<00:01, 57.31it/s]"
          ],
          "name": "stderr"
        },
        {
          "output_type": "stream",
          "text": [
            "Epoch 0. Train Loss: 1.6732327, Test Loss : 1.6632694, Test Accuracy : 0.5408163265306123, Train Accuracy : 0.5187287173666288\n"
          ],
          "name": "stdout"
        },
        {
          "output_type": "stream",
          "text": [
            "100%|██████████| 89/89 [00:01<00:00, 50.66it/s]\n",
            "100%|██████████| 89/89 [00:01<00:00, 50.85it/s]\n",
            "100%|██████████| 89/89 [00:01<00:00, 50.45it/s]\n",
            "100%|██████████| 89/89 [00:01<00:00, 50.91it/s]\n",
            "100%|██████████| 89/89 [00:01<00:00, 50.83it/s]\n",
            "100%|██████████| 89/89 [00:01<00:00, 50.43it/s]\n",
            "100%|██████████| 89/89 [00:01<00:00, 50.01it/s]\n",
            "100%|██████████| 89/89 [00:01<00:00, 49.91it/s]\n",
            "100%|██████████| 89/89 [00:01<00:00, 50.13it/s]\n",
            "100%|██████████| 89/89 [00:01<00:00, 50.17it/s]\n",
            "  7%|▋         | 6/89 [00:00<00:01, 57.15it/s]"
          ],
          "name": "stderr"
        },
        {
          "output_type": "stream",
          "text": [
            "Epoch 10. Train Loss: 0.028381426, Test Loss : 0.23261285, Test Accuracy : 0.9421768707482994, Train Accuracy : 0.9958380628074158\n"
          ],
          "name": "stdout"
        },
        {
          "output_type": "stream",
          "text": [
            "100%|██████████| 89/89 [00:01<00:00, 50.50it/s]\n",
            "100%|██████████| 89/89 [00:01<00:00, 49.84it/s]\n",
            "100%|██████████| 89/89 [00:01<00:00, 50.48it/s]\n",
            "100%|██████████| 89/89 [00:01<00:00, 49.81it/s]\n",
            "100%|██████████| 89/89 [00:01<00:00, 49.66it/s]\n",
            "100%|██████████| 89/89 [00:01<00:00, 49.96it/s]\n",
            "100%|██████████| 89/89 [00:01<00:00, 50.13it/s]\n",
            "100%|██████████| 89/89 [00:01<00:00, 49.80it/s]\n",
            "100%|██████████| 89/89 [00:01<00:00, 50.08it/s]\n",
            "100%|██████████| 89/89 [00:01<00:00, 50.01it/s]\n",
            "  7%|▋         | 6/89 [00:00<00:01, 56.36it/s]"
          ],
          "name": "stderr"
        },
        {
          "output_type": "stream",
          "text": [
            "Epoch 20. Train Loss: 0.00397077, Test Loss : 0.32617038, Test Accuracy : 0.9455782312925171, Train Accuracy : 0.9996216420734014\n"
          ],
          "name": "stdout"
        },
        {
          "output_type": "stream",
          "text": [
            "100%|██████████| 89/89 [00:01<00:00, 50.18it/s]\n",
            "100%|██████████| 89/89 [00:01<00:00, 49.85it/s]\n",
            "100%|██████████| 89/89 [00:01<00:00, 49.89it/s]\n",
            "100%|██████████| 89/89 [00:01<00:00, 50.26it/s]\n",
            "100%|██████████| 89/89 [00:01<00:00, 49.81it/s]\n",
            "100%|██████████| 89/89 [00:01<00:00, 49.91it/s]\n",
            "100%|██████████| 89/89 [00:01<00:00, 49.30it/s]\n",
            "100%|██████████| 89/89 [00:01<00:00, 49.74it/s]\n",
            "100%|██████████| 89/89 [00:01<00:00, 49.48it/s]\n",
            "100%|██████████| 89/89 [00:01<00:00, 49.66it/s]\n",
            "  7%|▋         | 6/89 [00:00<00:01, 56.47it/s]"
          ],
          "name": "stderr"
        },
        {
          "output_type": "stream",
          "text": [
            "Epoch 30. Train Loss: 0.00095306983, Test Loss : 0.40781444, Test Accuracy : 0.9455782312925171, Train Accuracy : 1.0\n"
          ],
          "name": "stdout"
        },
        {
          "output_type": "stream",
          "text": [
            "100%|██████████| 89/89 [00:01<00:00, 49.06it/s]\n",
            "100%|██████████| 89/89 [00:01<00:00, 49.58it/s]\n",
            "100%|██████████| 89/89 [00:01<00:00, 49.72it/s]\n",
            "100%|██████████| 89/89 [00:01<00:00, 48.88it/s]\n",
            "100%|██████████| 89/89 [00:01<00:00, 49.98it/s]\n",
            "100%|██████████| 89/89 [00:01<00:00, 49.59it/s]\n",
            "100%|██████████| 89/89 [00:01<00:00, 49.79it/s]\n",
            "100%|██████████| 89/89 [00:01<00:00, 49.87it/s]\n",
            "100%|██████████| 89/89 [00:01<00:00, 49.29it/s]\n",
            "100%|██████████| 89/89 [00:01<00:00, 49.37it/s]\n",
            "  7%|▋         | 6/89 [00:00<00:01, 56.41it/s]"
          ],
          "name": "stderr"
        },
        {
          "output_type": "stream",
          "text": [
            "Epoch 40. Train Loss: 0.00040844482, Test Loss : 0.44551325, Test Accuracy : 0.9455782312925171, Train Accuracy : 1.0\n"
          ],
          "name": "stdout"
        },
        {
          "output_type": "stream",
          "text": [
            "100%|██████████| 89/89 [00:01<00:00, 49.82it/s]\n",
            "100%|██████████| 89/89 [00:01<00:00, 50.00it/s]\n",
            "100%|██████████| 89/89 [00:01<00:00, 49.89it/s]\n",
            "100%|██████████| 89/89 [00:01<00:00, 49.25it/s]\n",
            "100%|██████████| 89/89 [00:01<00:00, 49.19it/s]\n",
            "100%|██████████| 89/89 [00:01<00:00, 49.13it/s]\n",
            "100%|██████████| 89/89 [00:01<00:00, 49.44it/s]\n",
            "100%|██████████| 89/89 [00:01<00:00, 49.23it/s]\n",
            "100%|██████████| 89/89 [00:01<00:00, 49.25it/s]\n",
            "100%|██████████| 89/89 [00:01<00:00, 49.31it/s]\n",
            "  7%|▋         | 6/89 [00:00<00:01, 55.88it/s]"
          ],
          "name": "stderr"
        },
        {
          "output_type": "stream",
          "text": [
            "Epoch 50. Train Loss: 0.00020473589, Test Loss : 0.46764532, Test Accuracy : 0.9455782312925171, Train Accuracy : 1.0\n"
          ],
          "name": "stdout"
        },
        {
          "output_type": "stream",
          "text": [
            "100%|██████████| 89/89 [00:01<00:00, 49.33it/s]\n",
            "100%|██████████| 89/89 [00:01<00:00, 49.34it/s]\n",
            "100%|██████████| 89/89 [00:01<00:00, 48.13it/s]\n",
            "100%|██████████| 89/89 [00:01<00:00, 46.96it/s]\n",
            "100%|██████████| 89/89 [00:01<00:00, 46.89it/s]\n",
            "100%|██████████| 89/89 [00:01<00:00, 46.77it/s]\n",
            "100%|██████████| 89/89 [00:01<00:00, 46.78it/s]\n",
            "100%|██████████| 89/89 [00:01<00:00, 47.04it/s]\n",
            "100%|██████████| 89/89 [00:01<00:00, 49.17it/s]\n",
            "100%|██████████| 89/89 [00:01<00:00, 49.50it/s]\n",
            "  7%|▋         | 6/89 [00:00<00:01, 56.94it/s]"
          ],
          "name": "stderr"
        },
        {
          "output_type": "stream",
          "text": [
            "Epoch 60. Train Loss: 0.00010783896, Test Loss : 0.502421, Test Accuracy : 0.9455782312925171, Train Accuracy : 1.0\n"
          ],
          "name": "stdout"
        },
        {
          "output_type": "stream",
          "text": [
            "100%|██████████| 89/89 [00:01<00:00, 49.23it/s]\n",
            "100%|██████████| 89/89 [00:01<00:00, 49.52it/s]\n",
            "100%|██████████| 89/89 [00:01<00:00, 49.48it/s]\n",
            "100%|██████████| 89/89 [00:01<00:00, 49.40it/s]\n",
            "100%|██████████| 89/89 [00:01<00:00, 49.21it/s]\n",
            "100%|██████████| 89/89 [00:01<00:00, 49.37it/s]\n",
            "100%|██████████| 89/89 [00:01<00:00, 49.68it/s]\n",
            "100%|██████████| 89/89 [00:01<00:00, 49.54it/s]\n",
            "100%|██████████| 89/89 [00:01<00:00, 49.44it/s]\n",
            "100%|██████████| 89/89 [00:01<00:00, 49.26it/s]\n",
            "  7%|▋         | 6/89 [00:00<00:01, 55.33it/s]"
          ],
          "name": "stderr"
        },
        {
          "output_type": "stream",
          "text": [
            "Epoch 70. Train Loss: 6.120158e-05, Test Loss : 0.5331315, Test Accuracy : 0.9455782312925171, Train Accuracy : 1.0\n"
          ],
          "name": "stdout"
        },
        {
          "output_type": "stream",
          "text": [
            "100%|██████████| 89/89 [00:01<00:00, 49.34it/s]\n",
            "100%|██████████| 89/89 [00:01<00:00, 49.35it/s]\n",
            "100%|██████████| 89/89 [00:01<00:00, 49.26it/s]\n",
            "100%|██████████| 89/89 [00:01<00:00, 48.85it/s]\n",
            "100%|██████████| 89/89 [00:01<00:00, 49.44it/s]\n",
            "100%|██████████| 89/89 [00:01<00:00, 49.21it/s]\n",
            "100%|██████████| 89/89 [00:01<00:00, 49.35it/s]\n",
            "100%|██████████| 89/89 [00:01<00:00, 48.94it/s]\n",
            "100%|██████████| 89/89 [00:01<00:00, 48.89it/s]\n",
            "100%|██████████| 89/89 [00:01<00:00, 49.46it/s]\n",
            "  7%|▋         | 6/89 [00:00<00:01, 56.92it/s]"
          ],
          "name": "stderr"
        },
        {
          "output_type": "stream",
          "text": [
            "Epoch 80. Train Loss: 3.435269e-05, Test Loss : 0.5833335, Test Accuracy : 0.9455782312925171, Train Accuracy : 1.0\n"
          ],
          "name": "stdout"
        },
        {
          "output_type": "stream",
          "text": [
            "100%|██████████| 89/89 [00:01<00:00, 49.52it/s]\n",
            "100%|██████████| 89/89 [00:01<00:00, 49.37it/s]\n",
            "100%|██████████| 89/89 [00:01<00:00, 49.22it/s]\n",
            "100%|██████████| 89/89 [00:01<00:00, 46.29it/s]\n",
            "100%|██████████| 89/89 [00:01<00:00, 46.50it/s]\n",
            "100%|██████████| 89/89 [00:01<00:00, 46.66it/s]\n",
            "100%|██████████| 89/89 [00:01<00:00, 49.19it/s]\n",
            "100%|██████████| 89/89 [00:01<00:00, 49.00it/s]\n",
            "100%|██████████| 89/89 [00:01<00:00, 48.86it/s]\n",
            "100%|██████████| 89/89 [00:01<00:00, 49.20it/s]\n",
            "  7%|▋         | 6/89 [00:00<00:01, 56.93it/s]"
          ],
          "name": "stderr"
        },
        {
          "output_type": "stream",
          "text": [
            "Epoch 90. Train Loss: 2.0578658e-05, Test Loss : 0.5823115, Test Accuracy : 0.9455782312925171, Train Accuracy : 1.0\n"
          ],
          "name": "stdout"
        },
        {
          "output_type": "stream",
          "text": [
            "100%|██████████| 89/89 [00:01<00:00, 49.00it/s]\n",
            "100%|██████████| 89/89 [00:01<00:00, 49.18it/s]\n",
            "100%|██████████| 89/89 [00:01<00:00, 48.93it/s]\n",
            "100%|██████████| 89/89 [00:01<00:00, 49.24it/s]\n",
            "100%|██████████| 89/89 [00:01<00:00, 48.96it/s]\n",
            "100%|██████████| 89/89 [00:01<00:00, 49.10it/s]\n",
            "100%|██████████| 89/89 [00:01<00:00, 49.33it/s]\n",
            "100%|██████████| 89/89 [00:01<00:00, 49.18it/s]\n",
            "100%|██████████| 89/89 [00:01<00:00, 49.07it/s]\n"
          ],
          "name": "stderr"
        }
      ]
    },
    {
      "metadata": {
        "id": "5IPYZe9BBcvo",
        "colab_type": "code",
        "colab": {}
      },
      "cell_type": "code",
      "source": [
        "model.export(\"ka-model3\")"
      ],
      "execution_count": 0,
      "outputs": []
    },
    {
      "metadata": {
        "id": "qgCYk_ByBcvq",
        "colab_type": "code",
        "outputId": "4a69bb00-2e85-467e-8756-d64155f10143",
        "colab": {
          "base_uri": "https://localhost:8080/",
          "height": 172
        }
      },
      "cell_type": "code",
      "source": [
        "load_model = gluon.nn.SymbolBlock.imports(\"ka-model3-symbol.json\", ['data0', 'data1'], \"ka-model3-0000.params\")"
      ],
      "execution_count": 0,
      "outputs": [
        {
          "output_type": "error",
          "ename": "NameError",
          "evalue": "ignored",
          "traceback": [
            "\u001b[0;31m---------------------------------------------------------------------------\u001b[0m",
            "\u001b[0;31mNameError\u001b[0m                                 Traceback (most recent call last)",
            "\u001b[0;32m<ipython-input-1-76f7511fcb23>\u001b[0m in \u001b[0;36m<module>\u001b[0;34m()\u001b[0m\n\u001b[0;32m----> 1\u001b[0;31m \u001b[0mload_model\u001b[0m \u001b[0;34m=\u001b[0m \u001b[0mgluon\u001b[0m\u001b[0;34m.\u001b[0m\u001b[0mnn\u001b[0m\u001b[0;34m.\u001b[0m\u001b[0mSymbolBlock\u001b[0m\u001b[0;34m.\u001b[0m\u001b[0mimports\u001b[0m\u001b[0;34m(\u001b[0m\u001b[0;34m\"ka-model3-symbol.json\"\u001b[0m\u001b[0;34m,\u001b[0m \u001b[0;34m[\u001b[0m\u001b[0;34m'data0'\u001b[0m\u001b[0;34m,\u001b[0m \u001b[0;34m'data1'\u001b[0m\u001b[0;34m]\u001b[0m\u001b[0;34m,\u001b[0m \u001b[0;34m\"ka-model3-0000.params\"\u001b[0m\u001b[0;34m)\u001b[0m\u001b[0;34m\u001b[0m\u001b[0;34m\u001b[0m\u001b[0m\n\u001b[0m",
            "\u001b[0;31mNameError\u001b[0m: name 'gluon' is not defined"
          ]
        }
      ]
    },
    {
      "metadata": {
        "id": "R7G8UBeqBcvs",
        "colab_type": "code",
        "colab": {}
      },
      "cell_type": "code",
      "source": [
        "def get_intent(sent):\n",
        "    sent_len = len(sent)\n",
        "    coded_sent = vocab_sent[length_clip(list(sent))]\n",
        "    co = nd.array(coded_sent).expand_dims(axis=1)\n",
        "    ret_code = load_model(co, nd.array([sent_len,]))\n",
        "    ret_seq = vocab_intent.to_tokens(ret_code.argmax(axis=1).asnumpy().astype('int').tolist())\n",
        "    #print(ret_code.argmax(axis=1).asnumpy().astype('int').tolist())\n",
        "    #print(ret_seq)\n",
        "    return(''.join(ret_seq))"
      ],
      "execution_count": 0,
      "outputs": []
    },
    {
      "metadata": {
        "id": "GcrE2qY4Bcvv",
        "colab_type": "text"
      },
      "cell_type": "markdown",
      "source": [
        "## 인텐트 테스트"
      ]
    },
    {
      "metadata": {
        "id": "J8KUAvF0Bcvx",
        "colab_type": "text"
      },
      "cell_type": "markdown",
      "source": [
        "데이터가 300개 이상인 인텐트"
      ]
    },
    {
      "metadata": {
        "scrolled": true,
        "id": "JGSczekCBcvy",
        "colab_type": "code",
        "outputId": "5fc920cd-4b89-446a-f72d-935a53a28b07",
        "colab": {
          "base_uri": "https://localhost:8080/",
          "height": 34
        }
      },
      "cell_type": "code",
      "source": [
        "get_intent(list(str(\"캡틴아메리카 맡은 배우 누구야\")))"
      ],
      "execution_count": 0,
      "outputs": [
        {
          "output_type": "execute_result",
          "data": {
            "text/plain": [
              "'findPerson'"
            ]
          },
          "metadata": {
            "tags": []
          },
          "execution_count": 35
        }
      ]
    },
    {
      "metadata": {
        "id": "y87j38R4Bcv0",
        "colab_type": "code",
        "outputId": "6102924a-16b1-4af7-c527-8e7fdcf929ad",
        "colab": {
          "base_uri": "https://localhost:8080/",
          "height": 34
        }
      },
      "cell_type": "code",
      "source": [
        "get_intent(list(str(\"해리포터 만든 배급사 알려줘\")))"
      ],
      "execution_count": 0,
      "outputs": [
        {
          "output_type": "execute_result",
          "data": {
            "text/plain": [
              "'getMaker'"
            ]
          },
          "metadata": {
            "tags": []
          },
          "execution_count": 36
        }
      ]
    },
    {
      "metadata": {
        "id": "lUAq9DZYBcv2",
        "colab_type": "code",
        "outputId": "7c2d817e-8717-4441-df88-98f6057e91fb",
        "colab": {
          "base_uri": "https://localhost:8080/",
          "height": 34
        }
      },
      "cell_type": "code",
      "source": [
        "get_intent(list(str(\"영웅들이 많이 나오는 영화 알려줘\")))"
      ],
      "execution_count": 0,
      "outputs": [
        {
          "output_type": "execute_result",
          "data": {
            "text/plain": [
              "'recommend'"
            ]
          },
          "metadata": {
            "tags": []
          },
          "execution_count": 37
        }
      ]
    },
    {
      "metadata": {
        "id": "va95xgG7Bcv4",
        "colab_type": "code",
        "outputId": "486e6184-5a86-4556-f22c-b07f93281b04",
        "colab": {
          "base_uri": "https://localhost:8080/",
          "height": 34
        }
      },
      "cell_type": "code",
      "source": [
        "get_intent(list(str(\"우울할 때 보기 좋은 영화 알려줘\")))"
      ],
      "execution_count": 0,
      "outputs": [
        {
          "output_type": "execute_result",
          "data": {
            "text/plain": [
              "'recommend'"
            ]
          },
          "metadata": {
            "tags": []
          },
          "execution_count": 38
        }
      ]
    },
    {
      "metadata": {
        "id": "gXBy5oMMBcv6",
        "colab_type": "text"
      },
      "cell_type": "markdown",
      "source": [
        "아래 부터는 데이터가 300개 미만인 것들입니다. 정확도가 다소 떨어집니다"
      ]
    },
    {
      "metadata": {
        "id": "ij1N4jrgBcv6",
        "colab_type": "code",
        "outputId": "d4b3add7-3942-49ef-9add-249a692426ba",
        "colab": {
          "base_uri": "https://localhost:8080/",
          "height": 34
        }
      },
      "cell_type": "code",
      "source": [
        "get_intent(list(str(\"인턴 영화 개봉일 찾아줘\")))"
      ],
      "execution_count": 0,
      "outputs": [
        {
          "output_type": "execute_result",
          "data": {
            "text/plain": [
              "'getOpenDate'"
            ]
          },
          "metadata": {
            "tags": []
          },
          "execution_count": 39
        }
      ]
    },
    {
      "metadata": {
        "id": "dCZ800MTBcv9",
        "colab_type": "code",
        "outputId": "32189bd1-c7c9-45dc-da0a-ca1e0c8831ee",
        "colab": {
          "base_uri": "https://localhost:8080/",
          "height": 34
        }
      },
      "cell_type": "code",
      "source": [
        "get_intent(list(str(\"인터스텔라 영화 포스터 보여줘\")))"
      ],
      "execution_count": 0,
      "outputs": [
        {
          "output_type": "execute_result",
          "data": {
            "text/plain": [
              "'getPoster'"
            ]
          },
          "metadata": {
            "tags": []
          },
          "execution_count": 40
        }
      ]
    },
    {
      "metadata": {
        "id": "GHsh3YZTBcwA",
        "colab_type": "code",
        "outputId": "30f36372-c3c7-4df9-d938-a5d63cc4ffc0",
        "colab": {
          "base_uri": "https://localhost:8080/",
          "height": 34
        }
      },
      "cell_type": "code",
      "source": [
        "get_intent(list(str(\"스타워즈 예고편 찾아줘\")))"
      ],
      "execution_count": 0,
      "outputs": [
        {
          "output_type": "execute_result",
          "data": {
            "text/plain": [
              "'getPoster'"
            ]
          },
          "metadata": {
            "tags": []
          },
          "execution_count": 41
        }
      ]
    },
    {
      "metadata": {
        "id": "ICf3mVUeBcwF",
        "colab_type": "code",
        "outputId": "71626504-002e-448d-8119-878a34e0873c",
        "colab": {
          "base_uri": "https://localhost:8080/",
          "height": 34
        }
      },
      "cell_type": "code",
      "source": [
        "get_intent(list(str(\"스파이더맨 상영등급 좀 알려줄래\")))"
      ],
      "execution_count": 0,
      "outputs": [
        {
          "output_type": "execute_result",
          "data": {
            "text/plain": [
              "'getGrade'"
            ]
          },
          "metadata": {
            "tags": []
          },
          "execution_count": 42
        }
      ]
    },
    {
      "metadata": {
        "id": "FOHiuCBQBcwH",
        "colab_type": "code",
        "outputId": "23a2b04e-1f9d-4e86-8017-18755bc31c26",
        "colab": {
          "base_uri": "https://localhost:8080/",
          "height": 34
        }
      },
      "cell_type": "code",
      "source": [
        "get_intent(list(str(\"겨울왕국 줄거리 알려줘\")))"
      ],
      "execution_count": 0,
      "outputs": [
        {
          "output_type": "execute_result",
          "data": {
            "text/plain": [
              "'getPlot'"
            ]
          },
          "metadata": {
            "tags": []
          },
          "execution_count": 43
        }
      ]
    },
    {
      "metadata": {
        "id": "ysEyK2q1BcwK",
        "colab_type": "code",
        "outputId": "9a33b9ec-9067-4b0f-e8f9-8518ecd0622e",
        "colab": {
          "base_uri": "https://localhost:8080/",
          "height": 34
        }
      },
      "cell_type": "code",
      "source": [
        "get_intent(list(str(\"다크나이트 공식 사이트 주소 좀\")))"
      ],
      "execution_count": 0,
      "outputs": [
        {
          "output_type": "execute_result",
          "data": {
            "text/plain": [
              "'recommend'"
            ]
          },
          "metadata": {
            "tags": []
          },
          "execution_count": 44
        }
      ]
    },
    {
      "metadata": {
        "id": "kp48gaAYBcwN",
        "colab_type": "code",
        "colab": {}
      },
      "cell_type": "code",
      "source": [
        "get_intent(list(str(\"타노스 나오는 영화 찾아봐\")))"
      ],
      "execution_count": 0,
      "outputs": []
    }
  ]
}